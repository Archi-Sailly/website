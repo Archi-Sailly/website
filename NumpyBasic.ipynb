{
  "nbformat": 4,
  "nbformat_minor": 0,
  "metadata": {
    "colab": {
      "provenance": [],
      "include_colab_link": true
    },
    "kernelspec": {
      "name": "python3",
      "display_name": "Python 3"
    },
    "language_info": {
      "name": "python"
    }
  },
  "cells": [
    {
      "cell_type": "markdown",
      "metadata": {
        "id": "view-in-github",
        "colab_type": "text"
      },
      "source": [
        "<a href=\"https://colab.research.google.com/github/SplitImages/website/blob/gh-pages/NumpyBasic.ipynb\" target=\"_parent\"><img src=\"https://colab.research.google.com/assets/colab-badge.svg\" alt=\"Open In Colab\"/></a>"
      ]
    },
    {
      "cell_type": "markdown",
      "metadata": {
        "id": "qTO5wWUk1YuT"
      },
      "source": [
        "### Numpy Basic\n",
        "#### 배열생성"
      ]
    },
    {
      "cell_type": "code",
      "metadata": {
        "id": "Qpqrm0dI1Xtk"
      },
      "source": [
        "import numpy as np\n",
        "# 1차원 배열 생성\n",
        "a = np.array([1, 2, 3, 4])\n",
        "\n",
        "# 2차원 배열 생성\n",
        "b = np.array([[1, 2, 3],\n",
        "          [4, 5, 6],\n",
        "          [7, 8, 9]])\n",
        "\n",
        "# 3차원 배열 생성\n",
        "c = np.array([[[ 0, 1, 2, 3],\n",
        "           [ 4, 5, 6, 7],\n",
        "           [ 8, 9, 10, 11]]])"
      ],
      "execution_count": null,
      "outputs": []
    },
    {
      "cell_type": "markdown",
      "source": [
        "### Numpy Array 속성\n",
        "- ndim : ndarray의 차원을 나타냄\n",
        "- shape : 각 차원의 ndarray 크기를 튜플 형태로 나타냄\n",
        "- size : ndarray에있는 요소의 총 수\n",
        "- dtype : ndarray의데이터 유형\n",
        "   - uint8 ~ uint64, int8 ~ int64, float16 ~ float128, bool 등\n",
        "- T : ndarray의 전치된 결과 반환 (행열 바꾸기)"
      ],
      "metadata": {
        "id": "ZzMozNDCQs8g"
      }
    },
    {
      "cell_type": "code",
      "metadata": {
        "colab": {
          "base_uri": "https://localhost:8080/"
        },
        "id": "jNA2RwKv2pc4",
        "outputId": "ec7a2217-6a0d-440f-dd48-af944a61b8e7"
      },
      "source": [
        "### Numpy Array 속성\n",
        "x = np.array([[1,2,3], [4,5,6]])\n",
        "x"
      ],
      "execution_count": 5,
      "outputs": [
        {
          "output_type": "execute_result",
          "data": {
            "text/plain": [
              "array([[1, 2, 3],\n",
              "       [4, 5, 6]])"
            ]
          },
          "metadata": {},
          "execution_count": 5
        }
      ]
    },
    {
      "cell_type": "code",
      "source": [
        "x.ndim"
      ],
      "metadata": {
        "id": "_Haw4xwMC8cx",
        "outputId": "241f1383-e3b3-4a48-faf9-83e5160c36d0",
        "colab": {
          "base_uri": "https://localhost:8080/"
        }
      },
      "execution_count": 6,
      "outputs": [
        {
          "output_type": "execute_result",
          "data": {
            "text/plain": [
              "2"
            ]
          },
          "metadata": {},
          "execution_count": 6
        }
      ]
    },
    {
      "cell_type": "code",
      "source": [
        "x.shape"
      ],
      "metadata": {
        "id": "82HmaTFuDIZk",
        "outputId": "7b231d1d-2c37-4479-8f01-e7e624393e26",
        "colab": {
          "base_uri": "https://localhost:8080/"
        }
      },
      "execution_count": 7,
      "outputs": [
        {
          "output_type": "execute_result",
          "data": {
            "text/plain": [
              "(2, 3)"
            ]
          },
          "metadata": {},
          "execution_count": 7
        }
      ]
    },
    {
      "cell_type": "code",
      "source": [
        "x.size"
      ],
      "metadata": {
        "id": "_AczUdr2DMW5",
        "outputId": "57fb3ebd-4bfc-4764-f143-f585abba48a7",
        "colab": {
          "base_uri": "https://localhost:8080/"
        }
      },
      "execution_count": 8,
      "outputs": [
        {
          "output_type": "execute_result",
          "data": {
            "text/plain": [
              "6"
            ]
          },
          "metadata": {},
          "execution_count": 8
        }
      ]
    },
    {
      "cell_type": "code",
      "source": [
        "x.dtype"
      ],
      "metadata": {
        "id": "1ZpNboA-DMhn",
        "outputId": "623696a8-4073-429e-8eb9-4143635aa70c",
        "colab": {
          "base_uri": "https://localhost:8080/"
        }
      },
      "execution_count": 9,
      "outputs": [
        {
          "output_type": "execute_result",
          "data": {
            "text/plain": [
              "dtype('int64')"
            ]
          },
          "metadata": {},
          "execution_count": 9
        }
      ]
    },
    {
      "cell_type": "code",
      "source": [
        "x.T"
      ],
      "metadata": {
        "id": "w1BvCS7GDMkP",
        "outputId": "977a5b8a-d944-4fe7-aaa0-a49d3da8173b",
        "colab": {
          "base_uri": "https://localhost:8080/"
        }
      },
      "execution_count": 11,
      "outputs": [
        {
          "output_type": "execute_result",
          "data": {
            "text/plain": [
              "array([[1, 4],\n",
              "       [2, 5],\n",
              "       [3, 6]])"
            ]
          },
          "metadata": {},
          "execution_count": 11
        }
      ]
    },
    {
      "cell_type": "markdown",
      "source": [
        "# Numpy Indexing\n",
        "- 특정행과 열에 접근: 넘파이배열[행, 열]\n",
        "- :슬라이싱도 가능"
      ],
      "metadata": {
        "id": "1qEQakZURW-V"
      }
    },
    {
      "cell_type": "code",
      "metadata": {
        "colab": {
          "base_uri": "https://localhost:8080/"
        },
        "id": "kscZFJ1C3HXQ",
        "outputId": "9b7f662f-6166-496d-9e4d-865be135b531"
      },
      "source": [
        "### Numpy Array 접근 -> [행, 열]\n",
        "x[0, 0]"
      ],
      "execution_count": 14,
      "outputs": [
        {
          "output_type": "execute_result",
          "data": {
            "text/plain": [
              "1"
            ]
          },
          "metadata": {},
          "execution_count": 14
        }
      ]
    },
    {
      "cell_type": "code",
      "metadata": {
        "colab": {
          "base_uri": "https://localhost:8080/"
        },
        "id": "Yi-7gqfuMOrZ",
        "outputId": "72f774ac-5299-41ea-a455-12bc1eab5ef6"
      },
      "source": [
        "x[:, 1:]"
      ],
      "execution_count": 15,
      "outputs": [
        {
          "output_type": "execute_result",
          "data": {
            "text/plain": [
              "array([[2, 3],\n",
              "       [5, 6]])"
            ]
          },
          "metadata": {},
          "execution_count": 15
        }
      ]
    },
    {
      "cell_type": "markdown",
      "source": [
        "##### 배열생성함수\n",
        "- arange 수의 범위를 만들어주는 함수\n",
        "- linspace 수의 범위를 균일하게 나누고자 할 때 사용\n",
        "- np.ones((행,열))   1로 채워진 배열생성\n",
        "- np.zeros((행,열))  0으로 채워진 배열생성\n",
        "- np.full((행,열), 값) 특정값으로 채워진 배열생성"
      ],
      "metadata": {
        "id": "X2kw1bRQOlhJ"
      }
    },
    {
      "cell_type": "code",
      "source": [
        "# 0 ~ 9 까지 값을 갖는 배열\n",
        "np.arange(10)"
      ],
      "metadata": {
        "colab": {
          "base_uri": "https://localhost:8080/"
        },
        "id": "nDzeZLjwOmxm",
        "outputId": "b71346f8-8f26-47ea-be1d-21210f24e610"
      },
      "execution_count": null,
      "outputs": [
        {
          "output_type": "execute_result",
          "data": {
            "text/plain": [
              "array([0, 1, 2, 3, 4, 5, 6, 7, 8, 9])"
            ]
          },
          "metadata": {},
          "execution_count": 6
        }
      ]
    },
    {
      "cell_type": "code",
      "source": [
        "# 0.1 ~ 1.0 까지 0.1씩 증가는 값을 갖는 배열 생성\n",
        "np.arange(0, 1, 0.1)"
      ],
      "metadata": {
        "colab": {
          "base_uri": "https://localhost:8080/"
        },
        "id": "V2RiJSbSOeRI",
        "outputId": "90256337-17b9-42ac-efc4-af26191afcb5"
      },
      "execution_count": null,
      "outputs": [
        {
          "output_type": "execute_result",
          "data": {
            "text/plain": [
              "array([0. , 0.1, 0.2, 0.3, 0.4, 0.5, 0.6, 0.7, 0.8, 0.9])"
            ]
          },
          "metadata": {},
          "execution_count": 7
        }
      ]
    },
    {
      "cell_type": "code",
      "source": [
        "np.linspace(1,10,3)"
      ],
      "metadata": {
        "id": "E24lxQvyO90N",
        "outputId": "45e8e430-788b-4f81-e897-698cee8338da",
        "colab": {
          "base_uri": "https://localhost:8080/"
        }
      },
      "execution_count": 17,
      "outputs": [
        {
          "output_type": "execute_result",
          "data": {
            "text/plain": [
              "array([ 1. ,  5.5, 10. ])"
            ]
          },
          "metadata": {},
          "execution_count": 17
        }
      ]
    },
    {
      "cell_type": "code",
      "source": [
        "np.ones((2,2))"
      ],
      "metadata": {
        "id": "vGPl0MNwGziU",
        "outputId": "4f6f73cc-1e4c-4376-fb49-a398f87f7a5d",
        "colab": {
          "base_uri": "https://localhost:8080/"
        }
      },
      "execution_count": 25,
      "outputs": [
        {
          "output_type": "execute_result",
          "data": {
            "text/plain": [
              "array([[1., 1.],\n",
              "       [1., 1.]])"
            ]
          },
          "metadata": {},
          "execution_count": 25
        }
      ]
    },
    {
      "cell_type": "code",
      "source": [
        "np.zeros((2,2))"
      ],
      "metadata": {
        "id": "65wLrl4jHLOv",
        "outputId": "99efd760-4827-4460-b172-8cb782747405",
        "colab": {
          "base_uri": "https://localhost:8080/"
        }
      },
      "execution_count": 26,
      "outputs": [
        {
          "output_type": "execute_result",
          "data": {
            "text/plain": [
              "array([[0., 0.],\n",
              "       [0., 0.]])"
            ]
          },
          "metadata": {},
          "execution_count": 26
        }
      ]
    },
    {
      "cell_type": "code",
      "source": [
        "np.ones((2,2))*-1\n",
        "np.full((2,2),-1)"
      ],
      "metadata": {
        "id": "pMUSzk1-HNBg",
        "outputId": "ea0ef406-1ae0-4517-dbde-7bea8af9b425",
        "colab": {
          "base_uri": "https://localhost:8080/"
        }
      },
      "execution_count": 29,
      "outputs": [
        {
          "output_type": "execute_result",
          "data": {
            "text/plain": [
              "array([[-1, -1],\n",
              "       [-1, -1]])"
            ]
          },
          "metadata": {},
          "execution_count": 29
        }
      ]
    },
    {
      "cell_type": "markdown",
      "source": [
        "##### RandomSampling"
      ],
      "metadata": {
        "id": "1v7tR1mv7cbt"
      }
    },
    {
      "cell_type": "code",
      "metadata": {
        "id": "PqRtGmma1O4z",
        "colab": {
          "base_uri": "https://localhost:8080/"
        },
        "outputId": "440ea6d6-5916-4561-ee34-18aae02b662b"
      },
      "source": [
        "import numpy as np\n",
        "np.random.seed(0)\n",
        "\n",
        "a = np.array(np.arange(100))\n",
        "np.random.choice(a, size=10, replace=False)  #비복원추출"
      ],
      "execution_count": null,
      "outputs": [
        {
          "output_type": "execute_result",
          "data": {
            "text/plain": [
              "array([26, 86,  2, 55, 75, 93, 16, 73, 54, 95])"
            ]
          },
          "metadata": {},
          "execution_count": 1
        }
      ]
    },
    {
      "cell_type": "code",
      "source": [
        "import numpy as np\n",
        "np.random.seed(0)\n",
        "\n",
        "a = np.arange(100)\n",
        "np.random.choice(a, size=10, replace=False)  #비복원추출\n",
        "np.random.choice(a, size=10, replace=True)  #복원추출"
      ],
      "metadata": {
        "id": "1H37tll4IPId",
        "outputId": "b62398cf-29ea-4b62-b17d-c72b4eb1f494",
        "colab": {
          "base_uri": "https://localhost:8080/"
        }
      },
      "execution_count": 39,
      "outputs": [
        {
          "output_type": "execute_result",
          "data": {
            "text/plain": [
              "array([34, 48, 93,  3, 98, 42, 77, 21, 73,  0])"
            ]
          },
          "metadata": {},
          "execution_count": 39
        }
      ]
    },
    {
      "cell_type": "code",
      "source": [
        "# 동전던지기 10회 수행\n",
        "np.random.seed(1)\n",
        "\n",
        "a = np.arange(2)\n",
        "np.random.choice(a, size = 10, replace = True)"
      ],
      "metadata": {
        "id": "zvXl8rKpI4PS",
        "outputId": "aaa3e185-ebcb-4b1b-ee8a-890f748480c1",
        "colab": {
          "base_uri": "https://localhost:8080/"
        }
      },
      "execution_count": 44,
      "outputs": [
        {
          "output_type": "execute_result",
          "data": {
            "text/plain": [
              "array([1, 1, 0, 0, 1, 1, 1, 1, 1, 0])"
            ]
          },
          "metadata": {},
          "execution_count": 44
        }
      ]
    },
    {
      "cell_type": "markdown",
      "source": [
        "#### 난수생성방법\n",
        "- np.random.rand : 0부터 1사이의 균일분포\n",
        "- np.random.randn : 가우시안 표준 정규 분포\n",
        "- np.random.randint : 균일 분포의 정수 난수"
      ],
      "metadata": {
        "id": "Fgp-LA-f7r2m"
      }
    },
    {
      "cell_type": "code",
      "source": [
        "np.random.randint(0, 100, 33)"
      ],
      "metadata": {
        "colab": {
          "base_uri": "https://localhost:8080/"
        },
        "id": "cGQnyBLi7K9e",
        "outputId": "79daf0e5-ca51-4dff-8d6b-49ac428b0401"
      },
      "execution_count": null,
      "outputs": [
        {
          "output_type": "execute_result",
          "data": {
            "text/plain": [
              "array([34, 48, 93,  3, 98, 42, 77, 21, 73,  0, 10, 43, 58, 23, 59,  2, 98,\n",
              "       62, 35, 94, 67, 82, 46, 99, 20, 81, 50, 27, 14, 41, 58, 65, 36])"
            ]
          },
          "metadata": {},
          "execution_count": 2
        }
      ]
    },
    {
      "cell_type": "code",
      "source": [
        "# 로또 번호 추출 1-45중 6개\n",
        "np.random.randint(1,46,6)"
      ],
      "metadata": {
        "id": "sNDkMxkfK43g",
        "outputId": "bbd324d6-9c44-4fcf-9048-62554cae3e39",
        "colab": {
          "base_uri": "https://localhost:8080/"
        }
      },
      "execution_count": 47,
      "outputs": [
        {
          "output_type": "execute_result",
          "data": {
            "text/plain": [
              "array([29, 30, 15,  5, 24, 24])"
            ]
          },
          "metadata": {},
          "execution_count": 47
        }
      ]
    },
    {
      "cell_type": "code",
      "source": [
        "np.random.randn(3,4)"
      ],
      "metadata": {
        "colab": {
          "base_uri": "https://localhost:8080/"
        },
        "id": "RC9y77w77NSn",
        "outputId": "c0ff2e15-9560-4f71-d8d3-e15512bf3bfe"
      },
      "execution_count": null,
      "outputs": [
        {
          "output_type": "execute_result",
          "data": {
            "text/plain": [
              "array([[-0.20642094,  0.48842647, -0.83833097,  0.38116374],\n",
              "       [-0.99090328,  1.01788005,  0.3415874 , -1.25088622],\n",
              "       [ 0.92525075, -0.90478616,  1.84369153,  1.52550724]])"
            ]
          },
          "metadata": {},
          "execution_count": 3
        }
      ]
    },
    {
      "cell_type": "code",
      "source": [
        "np.random.randint(1,100,5)"
      ],
      "metadata": {
        "colab": {
          "base_uri": "https://localhost:8080/"
        },
        "id": "KP0cVf-87QP2",
        "outputId": "fbb142ca-f54e-4bf0-9416-6d7fd48aa1fd"
      },
      "execution_count": null,
      "outputs": [
        {
          "output_type": "execute_result",
          "data": {
            "text/plain": [
              "array([67, 53, 68, 62, 15])"
            ]
          },
          "metadata": {},
          "execution_count": 4
        }
      ]
    }
  ]
}